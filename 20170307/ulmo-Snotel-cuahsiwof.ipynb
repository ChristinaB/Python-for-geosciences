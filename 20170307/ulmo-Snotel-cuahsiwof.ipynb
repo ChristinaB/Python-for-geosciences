{
 "cells": [
  {
   "cell_type": "markdown",
   "metadata": {},
   "source": [
    "# Snotel ulmo cuahsi wof\n",
    "Emilio Mayorga. Run on my conda environment `uwapl_em_mc_1aui`.  \n",
    "3/7/2017."
   ]
  },
  {
   "cell_type": "code",
   "execution_count": 1,
   "metadata": {
    "collapsed": false
   },
   "outputs": [
    {
     "name": "stderr",
     "output_type": "stream",
     "text": [
      "/home/mayorga/miniconda/envs/uwapl_em_mc_1aui/lib/python2.7/site-packages/matplotlib/font_manager.py:273: UserWarning: Matplotlib is building the font cache using fc-list. This may take a moment.\n",
      "  warnings.warn('Matplotlib is building the font cache using fc-list. This may take a moment.')\n"
     ]
    }
   ],
   "source": [
    "%matplotlib inline\n",
    "\n",
    "from datetime import datetime, timedelta\n",
    "import pytz\n",
    "import matplotlib.pyplot as plt\n",
    "import seaborn\n",
    "import numpy as np\n",
    "import pandas as pd\n",
    "# from geojson import Point, Feature, FeatureCollection\n",
    "# import mplleaflet\n",
    "\n",
    "import ulmo\n",
    "from ulmo.util import convert_datetime"
   ]
  },
  {
   "cell_type": "markdown",
   "metadata": {
    "collapsed": false
   },
   "source": [
    "## CUAHSI WaterOneFlow: ulmo, SOAP endpoint, and other general info"
   ]
  },
  {
   "cell_type": "code",
   "execution_count": 2,
   "metadata": {
    "collapsed": false
   },
   "outputs": [
    {
     "name": "stdout",
     "output_type": "stream",
     "text": [
      "\n",
      "    ulmo.cuahsi.wof\n",
      "    ~~~~~~~~~~~~~~~\n",
      "\n",
      "    `CUAHSI WaterOneFlow`_ web services\n",
      "\n",
      "    .. _CUAHSI WaterOneFlow: http://his.cuahsi.org/wofws.html\n",
      "\n"
     ]
    }
   ],
   "source": [
    "print(ulmo.cuahsi.wof.__doc__)"
   ]
  },
  {
   "cell_type": "code",
   "execution_count": 3,
   "metadata": {
    "collapsed": false
   },
   "outputs": [
    {
     "name": "stdout",
     "output_type": "stream",
     "text": [
      "['absolute_import', 'core', 'get_site_info', 'get_sites', 'get_values', 'get_variable_info']\n"
     ]
    }
   ],
   "source": [
    "print([obj for obj in dir(ulmo.cuahsi.wof) if not obj.startswith('__')])"
   ]
  },
  {
   "cell_type": "code",
   "execution_count": 5,
   "metadata": {
    "collapsed": true
   },
   "outputs": [],
   "source": [
    "# WaterML/WOF WSDL endpoints\n",
    "wsdlurl = \"http://worldwater.byu.edu/interactive/snotel/services/index.php/cuahsi_1_1.asmx?WSDL\"  # WOF 1.1\n",
    "\n",
    "# \"network code\"\n",
    "# networkcd = \"odm2timeseries\""
   ]
  },
  {
   "cell_type": "code",
   "execution_count": 6,
   "metadata": {
    "collapsed": true
   },
   "outputs": [],
   "source": [
    "sites = ulmo.cuahsi.wof.get_sites(wsdlurl)"
   ]
  },
  {
   "cell_type": "code",
   "execution_count": 10,
   "metadata": {
    "collapsed": false
   },
   "outputs": [
    {
     "data": {
      "text/plain": [
       "(dict, 890)"
      ]
     },
     "execution_count": 10,
     "metadata": {},
     "output_type": "execute_result"
    }
   ],
   "source": [
    "type(sites), len(sites)"
   ]
  },
  {
   "cell_type": "code",
   "execution_count": 11,
   "metadata": {
    "collapsed": false
   },
   "outputs": [
    {
     "data": {
      "text/plain": [
       "['SNOTEL:323',\n",
       " 'SNOTEL:1210',\n",
       " 'SNOTEL:1211',\n",
       " 'SNOTEL:1212',\n",
       " 'SNOTEL:1213',\n",
       " 'SNOTEL:1214',\n",
       " 'SNOTEL:1215',\n",
       " 'SNOTEL:1216',\n",
       " 'SNOTEL:1217',\n",
       " 'SNOTEL:676']"
      ]
     },
     "execution_count": 11,
     "metadata": {},
     "output_type": "execute_result"
    }
   ],
   "source": [
    "sites.keys()[:10]"
   ]
  },
  {
   "cell_type": "code",
   "execution_count": 12,
   "metadata": {
    "collapsed": true
   },
   "outputs": [],
   "source": [
    "networkcd = \"SNOTEL\""
   ]
  },
  {
   "cell_type": "markdown",
   "metadata": {},
   "source": [
    "## Get site information"
   ]
  },
  {
   "cell_type": "code",
   "execution_count": 13,
   "metadata": {
    "collapsed": true
   },
   "outputs": [],
   "source": [
    "# Site code picked randomly from the list above\n",
    "sitecd = \"323\""
   ]
  },
  {
   "cell_type": "code",
   "execution_count": 14,
   "metadata": {
    "collapsed": false
   },
   "outputs": [],
   "source": [
    "siteinfo = ulmo.cuahsi.wof.get_site_info(wsdlurl, networkcd+':'+sitecd)"
   ]
  },
  {
   "cell_type": "code",
   "execution_count": 15,
   "metadata": {
    "collapsed": false
   },
   "outputs": [
    {
     "data": {
      "text/plain": [
       "(dict,\n",
       " ['site_property',\n",
       "  'code',\n",
       "  'name',\n",
       "  'series',\n",
       "  'elevation_m',\n",
       "  'location',\n",
       "  'network'])"
      ]
     },
     "execution_count": 15,
     "metadata": {},
     "output_type": "execute_result"
    }
   ],
   "source": [
    "type(siteinfo), siteinfo.keys()"
   ]
  },
  {
   "cell_type": "code",
   "execution_count": 16,
   "metadata": {
    "collapsed": false
   },
   "outputs": [
    {
     "data": {
      "text/plain": [
       "('SNOTEL', '323', 'Bear Mountain')"
      ]
     },
     "execution_count": 16,
     "metadata": {},
     "output_type": "execute_result"
    }
   ],
   "source": [
    "siteinfo['network'], siteinfo['code'], siteinfo['name']"
   ]
  },
  {
   "cell_type": "code",
   "execution_count": 17,
   "metadata": {
    "collapsed": true
   },
   "outputs": [],
   "source": [
    "# NOTE: 'notes' may not be present in the WaterML 1.1 standard; I'm not sure\n",
    "# siteinfo['notes']"
   ]
  },
  {
   "cell_type": "code",
   "execution_count": 18,
   "metadata": {
    "collapsed": false
   },
   "outputs": [
    {
     "name": "stdout",
     "output_type": "stream",
     "text": [
      "{'latitude': '48.30577', 'longitude': '-116.07448'}\n"
     ]
    }
   ],
   "source": [
    "print(siteinfo['location'])"
   ]
  },
  {
   "cell_type": "code",
   "execution_count": 19,
   "metadata": {
    "collapsed": false
   },
   "outputs": [
    {
     "data": {
      "text/plain": [
       "(dict,\n",
       " 7,\n",
       " ['SNOTEL:WTEQ',\n",
       "  'SNOTEL:TMAX',\n",
       "  'SNOTEL:PREC',\n",
       "  'SNOTEL:PRCP',\n",
       "  'SNOTEL:SNWD',\n",
       "  'SNOTEL:TAVG',\n",
       "  'SNOTEL:TMIN'])"
      ]
     },
     "execution_count": 19,
     "metadata": {},
     "output_type": "execute_result"
    }
   ],
   "source": [
    "type(siteinfo['series']), len(siteinfo['series']), siteinfo['series'].keys()"
   ]
  },
  {
   "cell_type": "code",
   "execution_count": 21,
   "metadata": {
    "collapsed": false
   },
   "outputs": [
    {
     "data": {
      "text/plain": [
       "['{http://www.cuahsi.org/water_ml/1.1/}value_count',\n",
       " '{http://www.cuahsi.org/water_ml/1.1/}method',\n",
       " '{http://www.cuahsi.org/water_ml/1.1/}quality_control_level',\n",
       " 'variable',\n",
       " '{http://www.cuahsi.org/water_ml/1.1/}source',\n",
       " '{http://www.cuahsi.org/water_ml/1.1/}variable_time_interval']"
      ]
     },
     "execution_count": 21,
     "metadata": {},
     "output_type": "execute_result"
    }
   ],
   "source": [
    "siteinfo['series'][networkcd+':'+'SNWD'].keys()"
   ]
  },
  {
   "cell_type": "code",
   "execution_count": 22,
   "metadata": {
    "collapsed": false
   },
   "outputs": [
    {
     "data": {
      "text/plain": [
       "{'variable': {'code': 'SNWD',\n",
       "  'data_type': 'Continuous',\n",
       "  'general_category': 'Climate',\n",
       "  'id': '7',\n",
       "  'name': 'Snow Depth',\n",
       "  'no_data_value': '-9999',\n",
       "  'sample_medium': 'Air',\n",
       "  'speciation': 'Not applicable',\n",
       "  'time': {'interval': '0',\n",
       "   'is_regular': True,\n",
       "   'units': {'abbreviation': 'd',\n",
       "    'code': '104',\n",
       "    'name': 'day',\n",
       "    'type': 'Time'}},\n",
       "  'units': {'abbreviation': 'cm',\n",
       "   'code': '47',\n",
       "   'name': 'centimeter',\n",
       "   'type': 'Length'},\n",
       "  'value_type': 'Field Observation',\n",
       "  'vocabulary': 'SNOTEL'},\n",
       " '{http://www.cuahsi.org/water_ml/1.1/}method': {'method_code': '1',\n",
       "  'method_description': 'No method specified',\n",
       "  'method_id': '1'},\n",
       " '{http://www.cuahsi.org/water_ml/1.1/}quality_control_level': {'definition': 'Quality controlled data',\n",
       "  'quality_control_level_code': '1',\n",
       "  'quality_control_level_id': '1'},\n",
       " '{http://www.cuahsi.org/water_ml/1.1/}source': {'citation': 'add citation here..',\n",
       "  'organization': 'USDA NRCS',\n",
       "  'source_description': 'SNOTEL Data',\n",
       "  'source_id': '1'},\n",
       " '{http://www.cuahsi.org/water_ml/1.1/}value_count': {'value_count': '6345'},\n",
       " '{http://www.cuahsi.org/water_ml/1.1/}variable_time_interval': {'begin_date_time': '1999-09-18T00:00:00',\n",
       "  'begin_date_time_utc': '1999-09-17T17:00:00',\n",
       "  'end_date_time': '2017-01-31T00:00:00',\n",
       "  'end_date_time_utc': '2017-01-30T17:00:00',\n",
       "  'variable_time_interval_type': 'TimeIntervalType'}}"
      ]
     },
     "execution_count": 22,
     "metadata": {},
     "output_type": "execute_result"
    }
   ],
   "source": [
    "siteinfo['series'][networkcd+':'+'SNWD']"
   ]
  },
  {
   "cell_type": "markdown",
   "metadata": {},
   "source": [
    "## Get Values"
   ]
  },
  {
   "cell_type": "code",
   "execution_count": 23,
   "metadata": {
    "collapsed": true
   },
   "outputs": [],
   "source": [
    "def site_series_values_to_df(series_values, variable_name):\n",
    "    # Create a clean timeseries list of (dt,val) tuples\n",
    "    tsdt_tuplst = [(convert_datetime(valdict['datetime']).replace(tzinfo=pytz.utc), \n",
    "                    float(valdict['value']))\n",
    "                   for valdict in series_values['values']]\n",
    "    \n",
    "    dt, val = zip(*tsdt_tuplst)\n",
    "    ts_df = pd.DataFrame({'time':dt, variable_name:val})\n",
    "    ts_df.set_index('time', inplace=True)\n",
    "    ts_df.sort_index(ascending=True, inplace=True)\n",
    "    return ts_df"
   ]
  },
  {
   "cell_type": "code",
   "execution_count": 24,
   "metadata": {
    "collapsed": false
   },
   "outputs": [
    {
     "name": "stdout",
     "output_type": "stream",
     "text": [
      "\n",
      "    Retrieves site values from a WaterOneFlow service using a GetValues request.\n",
      "\n",
      "    Parameters\n",
      "    ----------\n",
      "    wsdl_url : str\n",
      "        URL of a service's web service definition language (WSDL) description.\n",
      "        All WaterOneFlow services publish a WSDL description and this url is the\n",
      "        entry point to the service.\n",
      "    site_code : str\n",
      "        Site code of the site you'd like to get values for. Site codes MUST\n",
      "        contain the network and be of the form <network>:<site_code>, as is\n",
      "        required by WaterOneFlow.\n",
      "    variable_code : str\n",
      "        Variable code of the variable you'd like to get values for. Variable\n",
      "        codes MUST contain the network and be of the form\n",
      "        <vocabulary>:<variable_code>, as is required by WaterOneFlow.\n",
      "    start : ``None`` or datetime (see :ref:`dates-and-times`)\n",
      "        Start of a date range for a query. If both start and end parameters are\n",
      "        omitted, the entire time series available will be returned.\n",
      "    end : ``None`` or datetime (see :ref:`dates-and-times`)\n",
      "        End of a date range for a query. If both start and end parameters are\n",
      "        omitted, the entire time series available will be returned.\n",
      "    suds_cache: ``None`` or tuple\n",
      "        SOAP local cache duration for WSDL description and client object.\n",
      "        Pass a cache duration tuple like ('days', 3) to set a custom duration.\n",
      "        Duration may be in months, weeks, days, hours, or seconds.\n",
      "        If unspecified, the default duration (1 day) will be used.\n",
      "        Use ``None`` to turn off caching.\n",
      "\n",
      "    Returns\n",
      "    -------\n",
      "    site_values : dict\n",
      "        a python dict containing values\n",
      "    \n"
     ]
    }
   ],
   "source": [
    "print(ulmo.cuahsi.wof.get_values.__doc__)"
   ]
  },
  {
   "cell_type": "code",
   "execution_count": 25,
   "metadata": {
    "collapsed": true
   },
   "outputs": [],
   "source": [
    "# 'odm2timeseries:USU33' is \"Oxygen, dissolved percent of saturation\"\n",
    "variablecd = 'SNWD'\n",
    "\n",
    "site_values = ulmo.cuahsi.wof.get_values(wsdlurl, networkcd+':'+sitecd, networkcd+':'+variablecd)"
   ]
  },
  {
   "cell_type": "code",
   "execution_count": 26,
   "metadata": {
    "collapsed": false
   },
   "outputs": [
    {
     "data": {
      "text/plain": [
       "['sources',\n",
       " 'quality_control_levels',\n",
       " 'values',\n",
       " 'censor_codes',\n",
       " 'variable',\n",
       " 'site',\n",
       " 'methods']"
      ]
     },
     "execution_count": 26,
     "metadata": {},
     "output_type": "execute_result"
    }
   ],
   "source": [
    "site_values.keys()"
   ]
  },
  {
   "cell_type": "code",
   "execution_count": 27,
   "metadata": {
    "collapsed": false
   },
   "outputs": [
    {
     "data": {
      "text/plain": [
       "{'code': 'SNWD',\n",
       " 'data_type': 'Continuous',\n",
       " 'general_category': 'Climate',\n",
       " 'id': '7',\n",
       " 'name': 'Snow Depth',\n",
       " 'no_data_value': '-9999',\n",
       " 'sample_medium': 'Air',\n",
       " 'speciation': 'Not applicable',\n",
       " 'time': {'interval': '0',\n",
       "  'is_regular': True,\n",
       "  'units': {'abbreviation': 'd',\n",
       "   'code': '104',\n",
       "   'name': 'day',\n",
       "   'type': 'Time'}},\n",
       " 'units': {'abbreviation': 'cm',\n",
       "  'code': '47',\n",
       "  'name': 'centimeter   ',\n",
       "  'type': 'Length'},\n",
       " 'value_type': 'Field Observation',\n",
       " 'vocabulary': 'SNOTEL'}"
      ]
     },
     "execution_count": 27,
     "metadata": {},
     "output_type": "execute_result"
    }
   ],
   "source": [
    "sitevariable = site_values['variable']\n",
    "sitevariable"
   ]
  },
  {
   "cell_type": "code",
   "execution_count": 28,
   "metadata": {
    "collapsed": false
   },
   "outputs": [
    {
     "data": {
      "text/plain": [
       "(list,\n",
       " ['method_code',\n",
       "  'time_offset',\n",
       "  'value',\n",
       "  'datetime',\n",
       "  'date_time_utc',\n",
       "  'censor_code',\n",
       "  'source_code',\n",
       "  'quality_control_level_code'])"
      ]
     },
     "execution_count": 28,
     "metadata": {},
     "output_type": "execute_result"
    }
   ],
   "source": [
    "# site_values['values'] is a list of individual time series values (timestamp and data value)\n",
    "type(site_values['values']), site_values['values'][0].keys()"
   ]
  },
  {
   "cell_type": "code",
   "execution_count": 29,
   "metadata": {
    "collapsed": false
   },
   "outputs": [
    {
     "data": {
      "text/plain": [
       "('1999-09-18T00:00:00', '2017-03-07T00:00:00')"
      ]
     },
     "execution_count": 29,
     "metadata": {},
     "output_type": "execute_result"
    }
   ],
   "source": [
    "# start and end timestamps (local time with time offset vs utc; iso8601 format)\n",
    "site_values['values'][0]['datetime'], site_values['values'][-1]['datetime']"
   ]
  },
  {
   "cell_type": "code",
   "execution_count": 30,
   "metadata": {
    "collapsed": false
   },
   "outputs": [
    {
     "data": {
      "text/plain": [
       "'Snow Depth (Field Observation)'"
      ]
     },
     "execution_count": 30,
     "metadata": {},
     "output_type": "execute_result"
    }
   ],
   "source": [
    "# Set a nice, user-friendly variable name string\n",
    "variable_name = \"%s (%s)\" % (sitevariable['name'],  sitevariable['value_type'])\n",
    "variable_name"
   ]
  },
  {
   "cell_type": "code",
   "execution_count": 31,
   "metadata": {
    "collapsed": false
   },
   "outputs": [
    {
     "data": {
      "text/plain": [
       "datetime.datetime(2017, 3, 7, 0, 0, tzinfo=<UTC>)"
      ]
     },
     "execution_count": 31,
     "metadata": {},
     "output_type": "execute_result"
    }
   ],
   "source": [
    "dtstr_last = site_values['values'][-1]['datetime']\n",
    "convert_datetime(dtstr_last).replace(tzinfo=pytz.utc)"
   ]
  },
  {
   "cell_type": "code",
   "execution_count": 32,
   "metadata": {
    "collapsed": false
   },
   "outputs": [],
   "source": [
    "# Hmm, this failed:\n",
    "# convert_datetime(dtstr_last).astimezone(pytz.utc)\n",
    "# ValueError: astimezone() cannot be applied to a naive datetime"
   ]
  },
  {
   "cell_type": "code",
   "execution_count": 33,
   "metadata": {
    "collapsed": false
   },
   "outputs": [
    {
     "data": {
      "text/html": [
       "<div>\n",
       "<table border=\"1\" class=\"dataframe\">\n",
       "  <thead>\n",
       "    <tr style=\"text-align: right;\">\n",
       "      <th></th>\n",
       "      <th>Snow Depth (Field Observation)</th>\n",
       "    </tr>\n",
       "    <tr>\n",
       "      <th>time</th>\n",
       "      <th></th>\n",
       "    </tr>\n",
       "  </thead>\n",
       "  <tbody>\n",
       "    <tr>\n",
       "      <th>2017-03-03 00:00:00+00:00</th>\n",
       "      <td>294.6</td>\n",
       "    </tr>\n",
       "    <tr>\n",
       "      <th>2017-03-04 00:00:00+00:00</th>\n",
       "      <td>297.2</td>\n",
       "    </tr>\n",
       "    <tr>\n",
       "      <th>2017-03-05 00:00:00+00:00</th>\n",
       "      <td>294.6</td>\n",
       "    </tr>\n",
       "    <tr>\n",
       "      <th>2017-03-06 00:00:00+00:00</th>\n",
       "      <td>292.1</td>\n",
       "    </tr>\n",
       "    <tr>\n",
       "      <th>2017-03-07 00:00:00+00:00</th>\n",
       "      <td>312.4</td>\n",
       "    </tr>\n",
       "  </tbody>\n",
       "</table>\n",
       "</div>"
      ],
      "text/plain": [
       "                           Snow Depth (Field Observation)\n",
       "time                                                     \n",
       "2017-03-03 00:00:00+00:00                           294.6\n",
       "2017-03-04 00:00:00+00:00                           297.2\n",
       "2017-03-05 00:00:00+00:00                           294.6\n",
       "2017-03-06 00:00:00+00:00                           292.1\n",
       "2017-03-07 00:00:00+00:00                           312.4"
      ]
     },
     "execution_count": 33,
     "metadata": {},
     "output_type": "execute_result"
    }
   ],
   "source": [
    "ts_df = site_series_values_to_df(site_values, variable_name)\n",
    "ts_df.tail()"
   ]
  },
  {
   "cell_type": "code",
   "execution_count": 34,
   "metadata": {
    "collapsed": false
   },
   "outputs": [
    {
     "data": {
      "text/plain": [
       "(pandas.core.frame.DataFrame,\n",
       " Index([u'Snow Depth (Field Observation)'], dtype='object'),\n",
       " datetime64[ns, UTC],\n",
       " Timestamp('1999-09-18 00:00:00+0000', tz='UTC'),\n",
       " Timestamp('2017-03-07 00:00:00+0000', tz='UTC'))"
      ]
     },
     "execution_count": 34,
     "metadata": {},
     "output_type": "execute_result"
    }
   ],
   "source": [
    "type(ts_df), ts_df.columns, ts_df.index.dtype, ts_df.index.min(), ts_df.index.max()"
   ]
  },
  {
   "cell_type": "code",
   "execution_count": 35,
   "metadata": {
    "collapsed": false
   },
   "outputs": [
    {
     "data": {
      "image/png": "[encoded data removed]",
      "text/plain": [
       "<matplotlib.figure.Figure at 0x7ffb377e7050>"
      ]
     },
     "metadata": {},
     "output_type": "display_data"
    }
   ],
   "source": [
    "fig, ax = plt.subplots(figsize=(10, 4))\n",
    "varlabel = ts_df.columns[0]\n",
    "ts_df[varlabel].plot(style='-', ax=ax)\n",
    "ax.set_ylabel(varlabel + ', ' + sitevariable['units']['abbreviation']);"
   ]
  },
  {
   "cell_type": "code",
   "execution_count": null,
   "metadata": {
    "collapsed": true
   },
   "outputs": [],
   "source": []
  }
 ],
 "metadata": {
  "kernelspec": {
   "display_name": "Python 2",
   "language": "python",
   "name": "python2"
  },
  "language_info": {
   "codemirror_mode": {
    "name": "ipython",
    "version": 2
   },
   "file_extension": ".py",
   "mimetype": "text/x-python",
   "name": "python",
   "nbconvert_exporter": "python",
   "pygments_lexer": "ipython2",
   "version": "2.7.11"
  }
 },
 "nbformat": 4,
 "nbformat_minor": 1
}
